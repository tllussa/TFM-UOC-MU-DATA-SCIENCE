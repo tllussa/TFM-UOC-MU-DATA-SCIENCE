{
 "cells": [
  {
   "cell_type": "code",
   "execution_count": 1,
   "metadata": {
    "id": "lMCuRV3SJK6w"
   },
   "outputs": [],
   "source": [
    "import numpy as np\n",
    "import tensorflow.compat.v2 as tf\n",
    "tf.enable_v2_behavior()\n",
    "import pandas as pd\n",
    "from tensorflow import keras\n",
    "from sklearn.preprocessing import StandardScaler\n",
    "from sklearn.preprocessing import RobustScaler\n",
    "from sklearn.preprocessing import MinMaxScaler\n",
    "from matplotlib import pyplot\n",
    "import plotly.graph_objects as go\n",
    "import math\n",
    "import seaborn as sns\n",
    "from sklearn.metrics import mean_squared_error\n",
    "\n",
    "np.random.seed(1)\n",
    "tf.random.set_seed(1)\n",
    "\n",
    "from tensorflow.keras.models import Sequential\n",
    "from tensorflow.keras.layers import Dense, LSTM, GRU, Dropout, RepeatVector, TimeDistributed\n",
    "from keras import backend\n",
    "\n",
    "MODELFILENAME = 'MODELS/GRU_7d_TFM'\n",
    "TIME_STEPS=864 #6d\n",
    "\n",
    "CMODEL = GRU\n",
    "MODEL = \"GRU\"\n",
    "UNITS=40\n",
    "DROPOUT=0.405\n",
    "ACTIVATION='sigmoid'\n",
    "OPTIMIZER='adadelta'\n",
    "\n",
    "EPOCHS=68\n",
    "BATCHSIZE=45\n",
    "VALIDATIONSPLIT=0.1"
   ]
  },
  {
   "cell_type": "markdown",
   "metadata": {
    "id": "9d9z8yxsJK6x"
   },
   "source": [
    "## Càrrega de les dades"
   ]
  },
  {
   "cell_type": "code",
   "execution_count": 2,
   "metadata": {
    "colab": {
     "base_uri": "https://localhost:8080/",
     "height": 72,
     "resources": {
      "http://localhost:8080/nbextensions/google.colab/files.js": {
       "data": "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",
       "headers": [
        [
         "content-type",
         "application/javascript"
        ]
       ],
       "ok": true,
       "status": 200,
       "status_text": ""
      }
     }
    },
    "id": "seq5Q3gjJK6y",
    "outputId": "b504324d-e4af-4ef3-a687-fc6eb1a1dd20"
   },
   "outputs": [],
   "source": [
    "# Code to read csv file into Colaboratory:\n",
    "# from google.colab import files\n",
    "# uploaded = files.upload()\n",
    "# import io\n",
    "# df = pd.read_csv(io.BytesIO(uploaded['SentDATA.csv']))\n",
    "# Dataset is now stored in a Pandas Dataframe\n",
    "df = pd.read_csv('../../data/dadesTFM.csv')\n",
    "\n",
    "df.reset_index(inplace=True)\n",
    "df['Time'] = pd.to_datetime(df['Time'])\n",
    "df = df.set_index('Time')"
   ]
  },
  {
   "cell_type": "markdown",
   "metadata": {
    "id": "4VLv_DJhJK6y"
   },
   "source": [
    "## Transformació de dades"
   ]
  },
  {
   "cell_type": "code",
   "execution_count": 3,
   "metadata": {
    "id": "NUx3mg0RJK6y"
   },
   "outputs": [],
   "source": [
    "columns = ['PM1','PM25','PM10','PM1ATM','PM25ATM','PM10ATM']\n",
    "\n",
    "df1 = df.copy();\n",
    "\n",
    "df1 = df1.rename(columns={\"PM 1\":\"PM1\",\"PM 2.5\":\"PM25\",\"PM 10\":\"PM10\",\"PM 1 ATM\":\"PM1ATM\",\"PM 2.5 ATM\":\"PM25ATM\",\"PM 10 ATM\":\"PM10ATM\"})\n",
    "\n",
    "df1['PM1'] = df['PM 1'].astype(np.float32)\n",
    "df1['PM25'] = df['PM 2.5'].astype(np.float32)\n",
    "df1['PM10'] = df['PM 10'].astype(np.float32)\n",
    "df1['PM1ATM'] = df['PM 1 ATM'].astype(np.float32)\n",
    "df1['PM25ATM'] = df['PM 2.5 ATM'].astype(np.float32)\n",
    "df1['PM10ATM'] = df['PM 10 ATM'].astype(np.float32)"
   ]
  },
  {
   "cell_type": "code",
   "execution_count": 4,
   "metadata": {
    "id": "eh0Xz9k-IHtg"
   },
   "outputs": [],
   "source": [
    "df2 = df1.copy()"
   ]
  },
  {
   "cell_type": "markdown",
   "metadata": {
    "id": "nLJVxlmlJK6z"
   },
   "source": [
    "## Crear dades d'entrenament i de test"
   ]
  },
  {
   "cell_type": "code",
   "execution_count": 5,
   "metadata": {
    "colab": {
     "base_uri": "https://localhost:8080/"
    },
    "id": "U1Dwm-E9JK6z",
    "outputId": "1a730231-7e4c-4250-9252-80d867a57bbb"
   },
   "outputs": [
    {
     "data": {
      "text/plain": [
       "((3117, 7), (780, 7))"
      ]
     },
     "execution_count": 5,
     "metadata": {},
     "output_type": "execute_result"
    }
   ],
   "source": [
    "train_size = int(len(df2) * 0.8)\n",
    "test_size = len(df2) - train_size\n",
    "train, test = df2.iloc[0:train_size], df2.iloc[train_size:len(df2)]\n",
    "train.shape, test.shape"
   ]
  },
  {
   "cell_type": "markdown",
   "metadata": {
    "id": "JuMi9G1LJK6z"
   },
   "source": [
    "## Normalitzar les dades d'entrenament"
   ]
  },
  {
   "cell_type": "code",
   "execution_count": 6,
   "metadata": {
    "colab": {
     "base_uri": "https://localhost:8080/"
    },
    "id": "cqcC5lWvJK6z",
    "outputId": "796bf0a5-8723-4ce7-e85a-a74b60891110"
   },
   "outputs": [
    {
     "name": "stderr",
     "output_type": "stream",
     "text": [
      "<ipython-input-6-83cecdbc25f8>:4: SettingWithCopyWarning: \n",
      "A value is trying to be set on a copy of a slice from a DataFrame.\n",
      "Try using .loc[row_indexer,col_indexer] = value instead\n",
      "\n",
      "See the caveats in the documentation: https://pandas.pydata.org/pandas-docs/stable/user_guide/indexing.html#returning-a-view-versus-a-copy\n",
      "  train[col] = scaler.fit_transform(train[[col]])\n",
      "<ipython-input-6-83cecdbc25f8>:4: SettingWithCopyWarning: \n",
      "A value is trying to be set on a copy of a slice from a DataFrame.\n",
      "Try using .loc[row_indexer,col_indexer] = value instead\n",
      "\n",
      "See the caveats in the documentation: https://pandas.pydata.org/pandas-docs/stable/user_guide/indexing.html#returning-a-view-versus-a-copy\n",
      "  train[col] = scaler.fit_transform(train[[col]])\n",
      "<ipython-input-6-83cecdbc25f8>:4: SettingWithCopyWarning: \n",
      "A value is trying to be set on a copy of a slice from a DataFrame.\n",
      "Try using .loc[row_indexer,col_indexer] = value instead\n",
      "\n",
      "See the caveats in the documentation: https://pandas.pydata.org/pandas-docs/stable/user_guide/indexing.html#returning-a-view-versus-a-copy\n",
      "  train[col] = scaler.fit_transform(train[[col]])\n",
      "<ipython-input-6-83cecdbc25f8>:4: SettingWithCopyWarning: \n",
      "A value is trying to be set on a copy of a slice from a DataFrame.\n",
      "Try using .loc[row_indexer,col_indexer] = value instead\n",
      "\n",
      "See the caveats in the documentation: https://pandas.pydata.org/pandas-docs/stable/user_guide/indexing.html#returning-a-view-versus-a-copy\n",
      "  train[col] = scaler.fit_transform(train[[col]])\n",
      "<ipython-input-6-83cecdbc25f8>:4: SettingWithCopyWarning: \n",
      "A value is trying to be set on a copy of a slice from a DataFrame.\n",
      "Try using .loc[row_indexer,col_indexer] = value instead\n",
      "\n",
      "See the caveats in the documentation: https://pandas.pydata.org/pandas-docs/stable/user_guide/indexing.html#returning-a-view-versus-a-copy\n",
      "  train[col] = scaler.fit_transform(train[[col]])\n",
      "<ipython-input-6-83cecdbc25f8>:4: SettingWithCopyWarning: \n",
      "A value is trying to be set on a copy of a slice from a DataFrame.\n",
      "Try using .loc[row_indexer,col_indexer] = value instead\n",
      "\n",
      "See the caveats in the documentation: https://pandas.pydata.org/pandas-docs/stable/user_guide/indexing.html#returning-a-view-versus-a-copy\n",
      "  train[col] = scaler.fit_transform(train[[col]])\n"
     ]
    }
   ],
   "source": [
    "#Standardize the data\n",
    "for col in columns:\n",
    "    scaler = StandardScaler()\n",
    "    train[col] = scaler.fit_transform(train[[col]])"
   ]
  },
  {
   "cell_type": "markdown",
   "metadata": {
    "id": "7LsNLCHSJK6z"
   },
   "source": [
    "## Crear finestra de temps"
   ]
  },
  {
   "cell_type": "code",
   "execution_count": 7,
   "metadata": {
    "colab": {
     "base_uri": "https://localhost:8080/"
    },
    "id": "nEH4EmxcJK6z",
    "outputId": "1c4f38e4-a637-4e64-e523-ca5db7b020e2"
   },
   "outputs": [
    {
     "name": "stdout",
     "output_type": "stream",
     "text": [
      "X_train shape: (2253, 864, 1)\n",
      "y_train shape: (2253,)\n"
     ]
    }
   ],
   "source": [
    "def create_sequences(X, y, time_steps=TIME_STEPS):\n",
    "    Xs, ys = [], []\n",
    "    for i in range(len(X)-time_steps):\n",
    "        Xs.append(X.iloc[i:(i+time_steps)].values)\n",
    "        ys.append(y.iloc[i+time_steps])\n",
    "    \n",
    "    return np.array(Xs), np.array(ys)\n",
    "\n",
    "X_train, y_train = create_sequences(train[[columns[1]]], train[columns[1]])\n",
    "#X_test, y_test = create_sequences(test[[columns[1]]], test[columns[1]])\n",
    "\n",
    "print(f'X_train shape: {X_train.shape}')\n",
    "print(f'y_train shape: {y_train.shape}')"
   ]
  },
  {
   "cell_type": "markdown",
   "metadata": {
    "id": "e9caadjyJK6z"
   },
   "source": [
    "## Creació del model"
   ]
  },
  {
   "cell_type": "code",
   "execution_count": 8,
   "metadata": {
    "id": "29k_PE2R-b_y"
   },
   "outputs": [],
   "source": [
    "#afegir nova mètrica\n",
    "def rmse(y_true, y_pred):\n",
    "\treturn backend.sqrt(backend.mean(backend.square(y_pred - y_true), axis=-1))"
   ]
  },
  {
   "cell_type": "code",
   "execution_count": 9,
   "metadata": {
    "colab": {
     "base_uri": "https://localhost:8080/"
    },
    "id": "6aGuhrOfJK6z",
    "outputId": "826a4906-01dc-4144-ca00-d0292f54a030"
   },
   "outputs": [
    {
     "name": "stdout",
     "output_type": "stream",
     "text": [
      "Model: \"sequential\"\n",
      "_________________________________________________________________\n",
      "Layer (type)                 Output Shape              Param #   \n",
      "=================================================================\n",
      "gru (GRU)                    (None, 864, 40)           5160      \n",
      "_________________________________________________________________\n",
      "dropout (Dropout)            (None, 864, 40)           0         \n",
      "_________________________________________________________________\n",
      "time_distributed (TimeDistri (None, 864, 1)            41        \n",
      "=================================================================\n",
      "Total params: 5,201\n",
      "Trainable params: 5,201\n",
      "Non-trainable params: 0\n",
      "_________________________________________________________________\n"
     ]
    }
   ],
   "source": [
    "model = Sequential()\n",
    "model.add(CMODEL(units = UNITS, return_sequences=True, input_shape=(X_train.shape[1], X_train.shape[2])))\n",
    "model.add(Dropout(rate=DROPOUT))\n",
    "model.add(TimeDistributed(Dense(1,kernel_initializer='normal',activation=ACTIVATION)))\n",
    "model.compile(optimizer=OPTIMIZER, loss='mae',metrics=['mse',rmse])\n",
    "model.summary()"
   ]
  },
  {
   "cell_type": "code",
   "execution_count": 10,
   "metadata": {
    "colab": {
     "base_uri": "https://localhost:8080/"
    },
    "id": "A8otmLM2JK60",
    "outputId": "7073822e-f9bd-4b94-8716-24c57cbffe72",
    "scrolled": false
   },
   "outputs": [
    {
     "name": "stdout",
     "output_type": "stream",
     "text": [
      "Epoch 1/68\n",
      "46/46 [==============================] - 12s 255ms/step - loss: 0.9247 - mse: 1.1927 - rmse: 0.9250 - val_loss: 1.4878 - val_mse: 2.2284 - val_rmse: 1.4878\n",
      "Epoch 2/68\n",
      "46/46 [==============================] - 11s 247ms/step - loss: 0.9247 - mse: 1.1926 - rmse: 0.9250 - val_loss: 1.4877 - val_mse: 2.2283 - val_rmse: 1.4878\n",
      "Epoch 3/68\n",
      "46/46 [==============================] - 12s 253ms/step - loss: 0.9246 - mse: 1.1926 - rmse: 0.9249 - val_loss: 1.4877 - val_mse: 2.2282 - val_rmse: 1.4877\n",
      "Epoch 4/68\n",
      "46/46 [==============================] - 12s 253ms/step - loss: 0.9246 - mse: 1.1925 - rmse: 0.9249 - val_loss: 1.4877 - val_mse: 2.2281 - val_rmse: 1.4877\n",
      "Epoch 5/68\n",
      "46/46 [==============================] - 11s 247ms/step - loss: 0.9246 - mse: 1.1925 - rmse: 0.9249 - val_loss: 1.4876 - val_mse: 2.2280 - val_rmse: 1.4876\n",
      "Epoch 6/68\n",
      "46/46 [==============================] - 11s 247ms/step - loss: 0.9246 - mse: 1.1924 - rmse: 0.9249 - val_loss: 1.4876 - val_mse: 2.2279 - val_rmse: 1.4876\n",
      "Epoch 7/68\n",
      "46/46 [==============================] - 11s 247ms/step - loss: 0.9245 - mse: 1.1924 - rmse: 0.9248 - val_loss: 1.4876 - val_mse: 2.2278 - val_rmse: 1.4876\n",
      "Epoch 8/68\n",
      "46/46 [==============================] - 11s 246ms/step - loss: 0.9245 - mse: 1.1923 - rmse: 0.9248 - val_loss: 1.4875 - val_mse: 2.2277 - val_rmse: 1.4875\n",
      "Epoch 9/68\n",
      "46/46 [==============================] - 12s 256ms/step - loss: 0.9245 - mse: 1.1922 - rmse: 0.9248 - val_loss: 1.4875 - val_mse: 2.2276 - val_rmse: 1.4875\n",
      "Epoch 10/68\n",
      "46/46 [==============================] - 11s 247ms/step - loss: 0.9244 - mse: 1.1922 - rmse: 0.9248 - val_loss: 1.4874 - val_mse: 2.2274 - val_rmse: 1.4875\n",
      "Epoch 11/68\n",
      "46/46 [==============================] - 11s 249ms/step - loss: 0.9244 - mse: 1.1921 - rmse: 0.9247 - val_loss: 1.4874 - val_mse: 2.2273 - val_rmse: 1.4874\n",
      "Epoch 12/68\n",
      "46/46 [==============================] - 11s 248ms/step - loss: 0.9244 - mse: 1.1921 - rmse: 0.9247 - val_loss: 1.4874 - val_mse: 2.2272 - val_rmse: 1.4874\n",
      "Epoch 13/68\n",
      "46/46 [==============================] - 11s 245ms/step - loss: 0.9244 - mse: 1.1920 - rmse: 0.9247 - val_loss: 1.4873 - val_mse: 2.2271 - val_rmse: 1.4873\n",
      "Epoch 14/68\n",
      "46/46 [==============================] - 11s 247ms/step - loss: 0.9243 - mse: 1.1920 - rmse: 0.9246 - val_loss: 1.4873 - val_mse: 2.2269 - val_rmse: 1.4873\n",
      "Epoch 15/68\n",
      "46/46 [==============================] - 12s 258ms/step - loss: 0.9243 - mse: 1.1919 - rmse: 0.9246 - val_loss: 1.4872 - val_mse: 2.2268 - val_rmse: 1.4872\n",
      "Epoch 16/68\n",
      "46/46 [==============================] - 11s 250ms/step - loss: 0.9243 - mse: 1.1918 - rmse: 0.9246 - val_loss: 1.4872 - val_mse: 2.2267 - val_rmse: 1.4872\n",
      "Epoch 17/68\n",
      "46/46 [==============================] - 11s 248ms/step - loss: 0.9243 - mse: 1.1918 - rmse: 0.9246 - val_loss: 1.4871 - val_mse: 2.2265 - val_rmse: 1.4872\n",
      "Epoch 18/68\n",
      "46/46 [==============================] - 11s 248ms/step - loss: 0.9242 - mse: 1.1917 - rmse: 0.9245 - val_loss: 1.4871 - val_mse: 2.2264 - val_rmse: 1.4871\n",
      "Epoch 19/68\n",
      "46/46 [==============================] - 11s 248ms/step - loss: 0.9242 - mse: 1.1917 - rmse: 0.9245 - val_loss: 1.4871 - val_mse: 2.2263 - val_rmse: 1.4871\n",
      "Epoch 20/68\n",
      "46/46 [==============================] - 12s 258ms/step - loss: 0.9242 - mse: 1.1916 - rmse: 0.9245 - val_loss: 1.4870 - val_mse: 2.2261 - val_rmse: 1.4870\n",
      "Epoch 21/68\n",
      "46/46 [==============================] - 12s 254ms/step - loss: 0.9241 - mse: 1.1915 - rmse: 0.9244 - val_loss: 1.4870 - val_mse: 2.2260 - val_rmse: 1.4870\n",
      "Epoch 22/68\n",
      "46/46 [==============================] - 11s 248ms/step - loss: 0.9241 - mse: 1.1914 - rmse: 0.9244 - val_loss: 1.4869 - val_mse: 2.2259 - val_rmse: 1.4869\n",
      "Epoch 23/68\n",
      "46/46 [==============================] - 11s 247ms/step - loss: 0.9241 - mse: 1.1914 - rmse: 0.9244 - val_loss: 1.4869 - val_mse: 2.2257 - val_rmse: 1.4869\n",
      "Epoch 24/68\n",
      "46/46 [==============================] - 11s 248ms/step - loss: 0.9240 - mse: 1.1913 - rmse: 0.9243 - val_loss: 1.4868 - val_mse: 2.2256 - val_rmse: 1.4868\n",
      "Epoch 25/68\n",
      "46/46 [==============================] - 11s 248ms/step - loss: 0.9240 - mse: 1.1913 - rmse: 0.9243 - val_loss: 1.4868 - val_mse: 2.2254 - val_rmse: 1.4868\n",
      "Epoch 26/68\n",
      "46/46 [==============================] - 12s 260ms/step - loss: 0.9240 - mse: 1.1912 - rmse: 0.9243 - val_loss: 1.4867 - val_mse: 2.2253 - val_rmse: 1.4867\n",
      "Epoch 27/68\n",
      "46/46 [==============================] - 11s 248ms/step - loss: 0.9239 - mse: 1.1911 - rmse: 0.9243 - val_loss: 1.4867 - val_mse: 2.2252 - val_rmse: 1.4867\n",
      "Epoch 28/68\n",
      "46/46 [==============================] - 11s 248ms/step - loss: 0.9239 - mse: 1.1910 - rmse: 0.9242 - val_loss: 1.4866 - val_mse: 2.2250 - val_rmse: 1.4866\n",
      "Epoch 29/68\n",
      "46/46 [==============================] - 11s 248ms/step - loss: 0.9239 - mse: 1.1910 - rmse: 0.9242 - val_loss: 1.4866 - val_mse: 2.2249 - val_rmse: 1.4866\n",
      "Epoch 30/68\n",
      "46/46 [==============================] - 11s 247ms/step - loss: 0.9238 - mse: 1.1909 - rmse: 0.9242 - val_loss: 1.4865 - val_mse: 2.2247 - val_rmse: 1.4865\n",
      "Epoch 31/68\n",
      "46/46 [==============================] - 12s 259ms/step - loss: 0.9238 - mse: 1.1909 - rmse: 0.9241 - val_loss: 1.4865 - val_mse: 2.2246 - val_rmse: 1.4865\n",
      "Epoch 32/68\n",
      "46/46 [==============================] - 11s 250ms/step - loss: 0.9238 - mse: 1.1908 - rmse: 0.9241 - val_loss: 1.4864 - val_mse: 2.2244 - val_rmse: 1.4864\n",
      "Epoch 33/68\n",
      "46/46 [==============================] - 11s 248ms/step - loss: 0.9237 - mse: 1.1907 - rmse: 0.9241 - val_loss: 1.4864 - val_mse: 2.2243 - val_rmse: 1.4864\n",
      "Epoch 34/68\n",
      "46/46 [==============================] - 11s 250ms/step - loss: 0.9237 - mse: 1.1906 - rmse: 0.9240 - val_loss: 1.4863 - val_mse: 2.2241 - val_rmse: 1.4863\n",
      "Epoch 35/68\n",
      "46/46 [==============================] - 12s 258ms/step - loss: 0.9237 - mse: 1.1906 - rmse: 0.9240 - val_loss: 1.4863 - val_mse: 2.2240 - val_rmse: 1.4863\n",
      "Epoch 36/68\n",
      "46/46 [==============================] - 12s 260ms/step - loss: 0.9237 - mse: 1.1905 - rmse: 0.9240 - val_loss: 1.4862 - val_mse: 2.2238 - val_rmse: 1.4862\n",
      "Epoch 37/68\n",
      "46/46 [==============================] - 13s 276ms/step - loss: 0.9236 - mse: 1.1904 - rmse: 0.9239 - val_loss: 1.4862 - val_mse: 2.2237 - val_rmse: 1.4862\n",
      "Epoch 38/68\n",
      "46/46 [==============================] - 12s 256ms/step - loss: 0.9236 - mse: 1.1904 - rmse: 0.9239 - val_loss: 1.4861 - val_mse: 2.2235 - val_rmse: 1.4861\n",
      "Epoch 39/68\n",
      "46/46 [==============================] - 12s 256ms/step - loss: 0.9235 - mse: 1.1903 - rmse: 0.9239 - val_loss: 1.4861 - val_mse: 2.2234 - val_rmse: 1.4861\n",
      "Epoch 40/68\n",
      "46/46 [==============================] - 12s 256ms/step - loss: 0.9235 - mse: 1.1902 - rmse: 0.9238 - val_loss: 1.4860 - val_mse: 2.2232 - val_rmse: 1.4860\n",
      "Epoch 41/68\n",
      "46/46 [==============================] - 12s 261ms/step - loss: 0.9235 - mse: 1.1901 - rmse: 0.9238 - val_loss: 1.4860 - val_mse: 2.2230 - val_rmse: 1.4860\n",
      "Epoch 42/68\n",
      "46/46 [==============================] - 12s 270ms/step - loss: 0.9234 - mse: 1.1901 - rmse: 0.9238 - val_loss: 1.4859 - val_mse: 2.2229 - val_rmse: 1.4859\n",
      "Epoch 43/68\n",
      "46/46 [==============================] - 11s 248ms/step - loss: 0.9234 - mse: 1.1900 - rmse: 0.9237 - val_loss: 1.4859 - val_mse: 2.2227 - val_rmse: 1.4859\n",
      "Epoch 44/68\n",
      "46/46 [==============================] - 11s 248ms/step - loss: 0.9234 - mse: 1.1899 - rmse: 0.9237 - val_loss: 1.4858 - val_mse: 2.2226 - val_rmse: 1.4858\n",
      "Epoch 45/68\n",
      "46/46 [==============================] - 12s 255ms/step - loss: 0.9233 - mse: 1.1899 - rmse: 0.9237 - val_loss: 1.4858 - val_mse: 2.2224 - val_rmse: 1.4858\n",
      "Epoch 46/68\n",
      "46/46 [==============================] - 12s 254ms/step - loss: 0.9233 - mse: 1.1898 - rmse: 0.9236 - val_loss: 1.4857 - val_mse: 2.2223 - val_rmse: 1.4857\n",
      "Epoch 47/68\n",
      "46/46 [==============================] - 11s 247ms/step - loss: 0.9233 - mse: 1.1897 - rmse: 0.9236 - val_loss: 1.4856 - val_mse: 2.2221 - val_rmse: 1.4857\n",
      "Epoch 48/68\n",
      "46/46 [==============================] - 12s 258ms/step - loss: 0.9232 - mse: 1.1896 - rmse: 0.9236 - val_loss: 1.4856 - val_mse: 2.2219 - val_rmse: 1.4856\n",
      "Epoch 49/68\n",
      "46/46 [==============================] - 12s 254ms/step - loss: 0.9232 - mse: 1.1896 - rmse: 0.9235 - val_loss: 1.4855 - val_mse: 2.2218 - val_rmse: 1.4856\n"
     ]
    },
    {
     "name": "stdout",
     "output_type": "stream",
     "text": [
      "Epoch 50/68\n",
      "46/46 [==============================] - 12s 255ms/step - loss: 0.9232 - mse: 1.1895 - rmse: 0.9235 - val_loss: 1.4855 - val_mse: 2.2216 - val_rmse: 1.4855\n",
      "Epoch 51/68\n",
      "46/46 [==============================] - 12s 262ms/step - loss: 0.9231 - mse: 1.1894 - rmse: 0.9235 - val_loss: 1.4854 - val_mse: 2.2214 - val_rmse: 1.4854\n",
      "Epoch 52/68\n",
      "46/46 [==============================] - 12s 258ms/step - loss: 0.9231 - mse: 1.1893 - rmse: 0.9234 - val_loss: 1.4854 - val_mse: 2.2213 - val_rmse: 1.4854\n",
      "Epoch 53/68\n",
      "46/46 [==============================] - 12s 266ms/step - loss: 0.9231 - mse: 1.1893 - rmse: 0.9234 - val_loss: 1.4853 - val_mse: 2.2211 - val_rmse: 1.4853\n",
      "Epoch 54/68\n",
      "46/46 [==============================] - 12s 255ms/step - loss: 0.9230 - mse: 1.1892 - rmse: 0.9234 - val_loss: 1.4853 - val_mse: 2.2210 - val_rmse: 1.4853\n",
      "Epoch 55/68\n",
      "46/46 [==============================] - 12s 256ms/step - loss: 0.9230 - mse: 1.1891 - rmse: 0.9233 - val_loss: 1.4852 - val_mse: 2.2208 - val_rmse: 1.4852\n",
      "Epoch 56/68\n",
      "46/46 [==============================] - 12s 260ms/step - loss: 0.9230 - mse: 1.1890 - rmse: 0.9233 - val_loss: 1.4851 - val_mse: 2.2206 - val_rmse: 1.4852\n",
      "Epoch 57/68\n",
      "46/46 [==============================] - 12s 256ms/step - loss: 0.9229 - mse: 1.1890 - rmse: 0.9233 - val_loss: 1.4851 - val_mse: 2.2205 - val_rmse: 1.4851\n",
      "Epoch 58/68\n",
      "46/46 [==============================] - 12s 261ms/step - loss: 0.9229 - mse: 1.1889 - rmse: 0.9232 - val_loss: 1.4850 - val_mse: 2.2203 - val_rmse: 1.4851\n",
      "Epoch 59/68\n",
      "46/46 [==============================] - 12s 260ms/step - loss: 0.9229 - mse: 1.1888 - rmse: 0.9232 - val_loss: 1.4850 - val_mse: 2.2201 - val_rmse: 1.4850\n",
      "Epoch 60/68\n",
      "46/46 [==============================] - 12s 255ms/step - loss: 0.9228 - mse: 1.1887 - rmse: 0.9232 - val_loss: 1.4849 - val_mse: 2.2200 - val_rmse: 1.4849\n",
      "Epoch 61/68\n",
      "46/46 [==============================] - 12s 260ms/step - loss: 0.9228 - mse: 1.1886 - rmse: 0.9231 - val_loss: 1.4849 - val_mse: 2.2198 - val_rmse: 1.4849\n",
      "Epoch 62/68\n",
      "46/46 [==============================] - 12s 257ms/step - loss: 0.9228 - mse: 1.1886 - rmse: 0.9231 - val_loss: 1.4848 - val_mse: 2.2196 - val_rmse: 1.4848\n",
      "Epoch 63/68\n",
      "46/46 [==============================] - 12s 255ms/step - loss: 0.9227 - mse: 1.1885 - rmse: 0.9230 - val_loss: 1.4848 - val_mse: 2.2195 - val_rmse: 1.4848\n",
      "Epoch 64/68\n",
      "46/46 [==============================] - 12s 268ms/step - loss: 0.9227 - mse: 1.1884 - rmse: 0.9230 - val_loss: 1.4847 - val_mse: 2.2193 - val_rmse: 1.4847\n",
      "Epoch 65/68\n",
      "46/46 [==============================] - 12s 256ms/step - loss: 0.9226 - mse: 1.1884 - rmse: 0.9230 - val_loss: 1.4846 - val_mse: 2.2191 - val_rmse: 1.4847\n",
      "Epoch 66/68\n",
      "46/46 [==============================] - 12s 259ms/step - loss: 0.9226 - mse: 1.1883 - rmse: 0.9229 - val_loss: 1.4846 - val_mse: 2.2190 - val_rmse: 1.4846\n",
      "Epoch 67/68\n",
      "46/46 [==============================] - 12s 258ms/step - loss: 0.9226 - mse: 1.1882 - rmse: 0.9229 - val_loss: 1.4845 - val_mse: 2.2188 - val_rmse: 1.4845\n",
      "Epoch 68/68\n",
      "46/46 [==============================] - 12s 255ms/step - loss: 0.9225 - mse: 1.1881 - rmse: 0.9229 - val_loss: 1.4845 - val_mse: 2.2186 - val_rmse: 1.4845\n"
     ]
    }
   ],
   "source": [
    "history = model.fit(X_train, y_train, epochs=EPOCHS, batch_size=BATCHSIZE, validation_split=VALIDATIONSPLIT,\n",
    "                    callbacks=[keras.callbacks.EarlyStopping(monitor='val_loss', patience=5, mode='min')], shuffle=False)"
   ]
  },
  {
   "cell_type": "code",
   "execution_count": 11,
   "metadata": {
    "colab": {
     "base_uri": "https://localhost:8080/",
     "height": 265
    },
    "id": "Ems83nHJJK60",
    "outputId": "9060c8d8-86c0-4375-abd5-2049a59dee03"
   },
   "outputs": [
    {
     "data": {
      "image/png": "[encoded data removed]",
      "text/plain": [
       "<Figure size 432x288 with 1 Axes>"
      ]
     },
     "metadata": {
      "needs_background": "light"
     },
     "output_type": "display_data"
    }
   ],
   "source": [
    "import matplotlib.pyplot as plt\n",
    "plt.plot(history.history['loss'], label='MAE Training loss')\n",
    "plt.plot(history.history['val_loss'], label='MAE Validation loss')\n",
    "plt.plot(history.history['mse'], label='MSE Training loss')\n",
    "plt.plot(history.history['val_mse'], label='MSE Validation loss')\n",
    "plt.plot(history.history['rmse'], label='RMSE Training loss')\n",
    "plt.plot(history.history['val_rmse'], label='RMSE Validation loss')\n",
    "plt.legend();"
   ]
  },
  {
   "cell_type": "code",
   "execution_count": 12,
   "metadata": {
    "colab": {
     "base_uri": "https://localhost:8080/",
     "height": 279
    },
    "id": "sGmjnOuMJK60",
    "outputId": "47b43988-b181-4f03-cecf-73f71bebafe8"
   },
   "outputs": [
    {
     "data": {
      "image/png": "[encoded data removed]",
      "text/plain": [
       "<Figure size 432x288 with 1 Axes>"
      ]
     },
     "metadata": {
      "needs_background": "light"
     },
     "output_type": "display_data"
    }
   ],
   "source": [
    "X_train_pred = model.predict(X_train, verbose=0)\n",
    "train_mae_loss = np.mean(np.abs(X_train_pred - X_train), axis=1)\n",
    "\n",
    "plt.hist(train_mae_loss, bins=50)\n",
    "plt.xlabel('Train MAE loss')\n",
    "plt.ylabel('Number of Samples');\n"
   ]
  },
  {
   "cell_type": "markdown",
   "metadata": {
    "id": "gvqOaZFTJK60"
   },
   "source": [
    "## Validació del model"
   ]
  },
  {
   "cell_type": "code",
   "execution_count": 13,
   "metadata": {
    "id": "q2Qwtfr9ADsC"
   },
   "outputs": [],
   "source": [
    "def evaluate_prediction(predictions, actual, model_name):\n",
    "    errors = predictions - actual\n",
    "    mse = np.square(errors).mean()\n",
    "    rmse = np.sqrt(mse)\n",
    "    mae = np.abs(errors).mean()\n",
    "\n",
    "    print(model_name + ':')\n",
    "    print('Mean Absolute Error: {:.4f}'.format(mae))\n",
    "    print('Root Mean Square Error: {:.4f}'.format(rmse))\n",
    "    print('Mean Square Error: {:.4f}'.format(mse))\n",
    "    print('')\n",
    "    return mae,rmse,mse"
   ]
  },
  {
   "cell_type": "code",
   "execution_count": 14,
   "metadata": {
    "colab": {
     "base_uri": "https://localhost:8080/"
    },
    "id": "HYJbjaBBJK60",
    "outputId": "6e0f3907-3713-4f4e-e32a-b823741a2c61"
   },
   "outputs": [
    {
     "name": "stdout",
     "output_type": "stream",
     "text": [
      "GRU:\n",
      "Mean Absolute Error: 0.9179\n",
      "Root Mean Square Error: 1.0803\n",
      "Mean Square Error: 1.1670\n",
      "\n"
     ]
    }
   ],
   "source": [
    "mae,rmse,mse = evaluate_prediction(X_train_pred, X_train,MODEL)"
   ]
  },
  {
   "cell_type": "code",
   "execution_count": 15,
   "metadata": {
    "id": "-2kUUH36JK60"
   },
   "outputs": [],
   "source": [
    "model.save(MODELFILENAME+'.h5')"
   ]
  },
  {
   "cell_type": "markdown",
   "metadata": {
    "id": "dxldpCPmJK60"
   },
   "source": [
    "## Testejar el model"
   ]
  },
  {
   "cell_type": "code",
   "execution_count": 16,
   "metadata": {
    "id": "5odDKqfKF63V"
   },
   "outputs": [],
   "source": [
    "#càlcul del threshold de test\n",
    "def calculate_threshold(X_test, X_test_pred):\n",
    "    distance = np.sqrt(np.mean(np.square(X_test_pred - X_test),axis=1))\n",
    "    \"\"\"Sorting the scores/diffs and using a 0.80 as cutoff value to pick the threshold\"\"\"\n",
    "    distance.sort();\n",
    "    cut_off = int(0.8 * len(distance));\n",
    "    threshold = distance[cut_off];\n",
    "    return threshold"
   ]
  },
  {
   "cell_type": "code",
   "execution_count": 17,
   "metadata": {
    "colab": {
     "base_uri": "https://localhost:8080/",
     "height": 1000
    },
    "id": "9O2KTrM8JK60",
    "outputId": "dd9dc160-35f4-445c-e515-8546dcd3dc27",
    "scrolled": false
   },
   "outputs": [
    {
     "name": "stdout",
     "output_type": "stream",
     "text": [
      "####################### PM1 ###########################\n",
      "Testing shape: (0,)\n",
      "\r"
     ]
    },
    {
     "name": "stderr",
     "output_type": "stream",
     "text": [
      "<ipython-input-17-e1f1d6df3b5c>:8: SettingWithCopyWarning: \n",
      "A value is trying to be set on a copy of a slice from a DataFrame.\n",
      "Try using .loc[row_indexer,col_indexer] = value instead\n",
      "\n",
      "See the caveats in the documentation: https://pandas.pydata.org/pandas-docs/stable/user_guide/indexing.html#returning-a-view-versus-a-copy\n",
      "  test[col] = scaler.fit_transform(test[[col]])\n",
      "c:\\python38\\lib\\site-packages\\tensorflow\\python\\keras\\utils\\generic_utils.py:581: RuntimeWarning: divide by zero encountered in log10\n",
      "  numdigits = int(np.log10(self.target)) + 1\n"
     ]
    },
    {
     "ename": "OverflowError",
     "evalue": "cannot convert float infinity to integer",
     "output_type": "error",
     "traceback": [
      "\u001b[1;31m---------------------------------------------------------------------------\u001b[0m",
      "\u001b[1;31mOverflowError\u001b[0m                             Traceback (most recent call last)",
      "\u001b[1;32m<ipython-input-17-e1f1d6df3b5c>\u001b[0m in \u001b[0;36m<module>\u001b[1;34m\u001b[0m\n\u001b[0;32m     13\u001b[0m \u001b[1;33m\u001b[0m\u001b[0m\n\u001b[0;32m     14\u001b[0m     \u001b[1;31m#evaluem el model\u001b[0m\u001b[1;33m\u001b[0m\u001b[1;33m\u001b[0m\u001b[1;33m\u001b[0m\u001b[0m\n\u001b[1;32m---> 15\u001b[1;33m     \u001b[0meval\u001b[0m \u001b[1;33m=\u001b[0m \u001b[0mmodel\u001b[0m\u001b[1;33m.\u001b[0m\u001b[0mevaluate\u001b[0m\u001b[1;33m(\u001b[0m\u001b[0mX_test1\u001b[0m\u001b[1;33m,\u001b[0m \u001b[0my_test1\u001b[0m\u001b[1;33m)\u001b[0m\u001b[1;33m\u001b[0m\u001b[1;33m\u001b[0m\u001b[0m\n\u001b[0m\u001b[0;32m     16\u001b[0m     \u001b[0mprint\u001b[0m\u001b[1;33m(\u001b[0m\u001b[1;34m\"evaluate: \"\u001b[0m\u001b[1;33m,\u001b[0m\u001b[0meval\u001b[0m\u001b[1;33m)\u001b[0m\u001b[1;33m\u001b[0m\u001b[1;33m\u001b[0m\u001b[0m\n\u001b[0;32m     17\u001b[0m \u001b[1;33m\u001b[0m\u001b[0m\n",
      "\u001b[1;32mc:\\python38\\lib\\site-packages\\tensorflow\\python\\keras\\engine\\training.py\u001b[0m in \u001b[0;36m_method_wrapper\u001b[1;34m(self, *args, **kwargs)\u001b[0m\n\u001b[0;32m    106\u001b[0m   \u001b[1;32mdef\u001b[0m \u001b[0m_method_wrapper\u001b[0m\u001b[1;33m(\u001b[0m\u001b[0mself\u001b[0m\u001b[1;33m,\u001b[0m \u001b[1;33m*\u001b[0m\u001b[0margs\u001b[0m\u001b[1;33m,\u001b[0m \u001b[1;33m**\u001b[0m\u001b[0mkwargs\u001b[0m\u001b[1;33m)\u001b[0m\u001b[1;33m:\u001b[0m\u001b[1;33m\u001b[0m\u001b[1;33m\u001b[0m\u001b[0m\n\u001b[0;32m    107\u001b[0m     \u001b[1;32mif\u001b[0m \u001b[1;32mnot\u001b[0m \u001b[0mself\u001b[0m\u001b[1;33m.\u001b[0m\u001b[0m_in_multi_worker_mode\u001b[0m\u001b[1;33m(\u001b[0m\u001b[1;33m)\u001b[0m\u001b[1;33m:\u001b[0m  \u001b[1;31m# pylint: disable=protected-access\u001b[0m\u001b[1;33m\u001b[0m\u001b[1;33m\u001b[0m\u001b[0m\n\u001b[1;32m--> 108\u001b[1;33m       \u001b[1;32mreturn\u001b[0m \u001b[0mmethod\u001b[0m\u001b[1;33m(\u001b[0m\u001b[0mself\u001b[0m\u001b[1;33m,\u001b[0m \u001b[1;33m*\u001b[0m\u001b[0margs\u001b[0m\u001b[1;33m,\u001b[0m \u001b[1;33m**\u001b[0m\u001b[0mkwargs\u001b[0m\u001b[1;33m)\u001b[0m\u001b[1;33m\u001b[0m\u001b[1;33m\u001b[0m\u001b[0m\n\u001b[0m\u001b[0;32m    109\u001b[0m \u001b[1;33m\u001b[0m\u001b[0m\n\u001b[0;32m    110\u001b[0m     \u001b[1;31m# Running inside `run_distribute_coordinator` already.\u001b[0m\u001b[1;33m\u001b[0m\u001b[1;33m\u001b[0m\u001b[1;33m\u001b[0m\u001b[0m\n",
      "\u001b[1;32mc:\\python38\\lib\\site-packages\\tensorflow\\python\\keras\\engine\\training.py\u001b[0m in \u001b[0;36mevaluate\u001b[1;34m(self, x, y, batch_size, verbose, sample_weight, steps, callbacks, max_queue_size, workers, use_multiprocessing, return_dict)\u001b[0m\n\u001b[0;32m   1384\u001b[0m               \u001b[0mcallbacks\u001b[0m\u001b[1;33m.\u001b[0m\u001b[0mon_test_batch_end\u001b[0m\u001b[1;33m(\u001b[0m\u001b[0mend_step\u001b[0m\u001b[1;33m,\u001b[0m \u001b[0mlogs\u001b[0m\u001b[1;33m)\u001b[0m\u001b[1;33m\u001b[0m\u001b[1;33m\u001b[0m\u001b[0m\n\u001b[0;32m   1385\u001b[0m       \u001b[0mlogs\u001b[0m \u001b[1;33m=\u001b[0m \u001b[0mtf_utils\u001b[0m\u001b[1;33m.\u001b[0m\u001b[0mto_numpy_or_python_type\u001b[0m\u001b[1;33m(\u001b[0m\u001b[0mlogs\u001b[0m\u001b[1;33m)\u001b[0m\u001b[1;33m\u001b[0m\u001b[1;33m\u001b[0m\u001b[0m\n\u001b[1;32m-> 1386\u001b[1;33m       \u001b[0mcallbacks\u001b[0m\u001b[1;33m.\u001b[0m\u001b[0mon_test_end\u001b[0m\u001b[1;33m(\u001b[0m\u001b[0mlogs\u001b[0m\u001b[1;33m=\u001b[0m\u001b[0mlogs\u001b[0m\u001b[1;33m)\u001b[0m\u001b[1;33m\u001b[0m\u001b[1;33m\u001b[0m\u001b[0m\n\u001b[0m\u001b[0;32m   1387\u001b[0m \u001b[1;33m\u001b[0m\u001b[0m\n\u001b[0;32m   1388\u001b[0m       \u001b[1;32mif\u001b[0m \u001b[0mreturn_dict\u001b[0m\u001b[1;33m:\u001b[0m\u001b[1;33m\u001b[0m\u001b[1;33m\u001b[0m\u001b[0m\n",
      "\u001b[1;32mc:\\python38\\lib\\site-packages\\tensorflow\\python\\keras\\callbacks.py\u001b[0m in \u001b[0;36mon_test_end\u001b[1;34m(self, logs)\u001b[0m\n\u001b[0;32m    546\u001b[0m     \u001b[1;32mfor\u001b[0m \u001b[0mcallback\u001b[0m \u001b[1;32min\u001b[0m \u001b[0mself\u001b[0m\u001b[1;33m.\u001b[0m\u001b[0mcallbacks\u001b[0m\u001b[1;33m:\u001b[0m\u001b[1;33m\u001b[0m\u001b[1;33m\u001b[0m\u001b[0m\n\u001b[0;32m    547\u001b[0m       \u001b[1;32mif\u001b[0m \u001b[0mgetattr\u001b[0m\u001b[1;33m(\u001b[0m\u001b[0mcallback\u001b[0m\u001b[1;33m,\u001b[0m \u001b[1;34m'_supports_tf_logs'\u001b[0m\u001b[1;33m,\u001b[0m \u001b[1;32mFalse\u001b[0m\u001b[1;33m)\u001b[0m\u001b[1;33m:\u001b[0m\u001b[1;33m\u001b[0m\u001b[1;33m\u001b[0m\u001b[0m\n\u001b[1;32m--> 548\u001b[1;33m         \u001b[0mcallback\u001b[0m\u001b[1;33m.\u001b[0m\u001b[0mon_test_end\u001b[0m\u001b[1;33m(\u001b[0m\u001b[0mlogs\u001b[0m\u001b[1;33m)\u001b[0m\u001b[1;33m\u001b[0m\u001b[1;33m\u001b[0m\u001b[0m\n\u001b[0m\u001b[0;32m    549\u001b[0m       \u001b[1;32melse\u001b[0m\u001b[1;33m:\u001b[0m\u001b[1;33m\u001b[0m\u001b[1;33m\u001b[0m\u001b[0m\n\u001b[0;32m    550\u001b[0m         \u001b[1;32mif\u001b[0m \u001b[0mnumpy_logs\u001b[0m \u001b[1;32mis\u001b[0m \u001b[1;32mNone\u001b[0m\u001b[1;33m:\u001b[0m  \u001b[1;31m# Only convert once.\u001b[0m\u001b[1;33m\u001b[0m\u001b[1;33m\u001b[0m\u001b[0m\n",
      "\u001b[1;32mc:\\python38\\lib\\site-packages\\tensorflow\\python\\keras\\callbacks.py\u001b[0m in \u001b[0;36mon_test_end\u001b[1;34m(self, logs)\u001b[0m\n\u001b[0;32m    974\u001b[0m   \u001b[1;32mdef\u001b[0m \u001b[0mon_test_end\u001b[0m\u001b[1;33m(\u001b[0m\u001b[0mself\u001b[0m\u001b[1;33m,\u001b[0m \u001b[0mlogs\u001b[0m\u001b[1;33m=\u001b[0m\u001b[1;32mNone\u001b[0m\u001b[1;33m)\u001b[0m\u001b[1;33m:\u001b[0m\u001b[1;33m\u001b[0m\u001b[1;33m\u001b[0m\u001b[0m\n\u001b[0;32m    975\u001b[0m     \u001b[1;32mif\u001b[0m \u001b[1;32mnot\u001b[0m \u001b[0mself\u001b[0m\u001b[1;33m.\u001b[0m\u001b[0m_called_in_fit\u001b[0m\u001b[1;33m:\u001b[0m\u001b[1;33m\u001b[0m\u001b[1;33m\u001b[0m\u001b[0m\n\u001b[1;32m--> 976\u001b[1;33m       \u001b[0mself\u001b[0m\u001b[1;33m.\u001b[0m\u001b[0m_finalize_progbar\u001b[0m\u001b[1;33m(\u001b[0m\u001b[0mlogs\u001b[0m\u001b[1;33m)\u001b[0m\u001b[1;33m\u001b[0m\u001b[1;33m\u001b[0m\u001b[0m\n\u001b[0m\u001b[0;32m    977\u001b[0m \u001b[1;33m\u001b[0m\u001b[0m\n\u001b[0;32m    978\u001b[0m   \u001b[1;32mdef\u001b[0m \u001b[0mon_predict_end\u001b[0m\u001b[1;33m(\u001b[0m\u001b[0mself\u001b[0m\u001b[1;33m,\u001b[0m \u001b[0mlogs\u001b[0m\u001b[1;33m=\u001b[0m\u001b[1;32mNone\u001b[0m\u001b[1;33m)\u001b[0m\u001b[1;33m:\u001b[0m\u001b[1;33m\u001b[0m\u001b[1;33m\u001b[0m\u001b[0m\n",
      "\u001b[1;32mc:\\python38\\lib\\site-packages\\tensorflow\\python\\keras\\callbacks.py\u001b[0m in \u001b[0;36m_finalize_progbar\u001b[1;34m(self, logs)\u001b[0m\n\u001b[0;32m   1024\u001b[0m       \u001b[0mself\u001b[0m\u001b[1;33m.\u001b[0m\u001b[0mprogbar\u001b[0m\u001b[1;33m.\u001b[0m\u001b[0mtarget\u001b[0m \u001b[1;33m=\u001b[0m \u001b[0mself\u001b[0m\u001b[1;33m.\u001b[0m\u001b[0mseen\u001b[0m\u001b[1;33m\u001b[0m\u001b[1;33m\u001b[0m\u001b[0m\n\u001b[0;32m   1025\u001b[0m     \u001b[0mlogs\u001b[0m \u001b[1;33m=\u001b[0m \u001b[0mtf_utils\u001b[0m\u001b[1;33m.\u001b[0m\u001b[0mto_numpy_or_python_type\u001b[0m\u001b[1;33m(\u001b[0m\u001b[0mlogs\u001b[0m\u001b[1;33m)\u001b[0m\u001b[1;33m\u001b[0m\u001b[1;33m\u001b[0m\u001b[0m\n\u001b[1;32m-> 1026\u001b[1;33m     \u001b[0mself\u001b[0m\u001b[1;33m.\u001b[0m\u001b[0mprogbar\u001b[0m\u001b[1;33m.\u001b[0m\u001b[0mupdate\u001b[0m\u001b[1;33m(\u001b[0m\u001b[0mself\u001b[0m\u001b[1;33m.\u001b[0m\u001b[0mseen\u001b[0m\u001b[1;33m,\u001b[0m \u001b[0mlist\u001b[0m\u001b[1;33m(\u001b[0m\u001b[0mlogs\u001b[0m\u001b[1;33m.\u001b[0m\u001b[0mitems\u001b[0m\u001b[1;33m(\u001b[0m\u001b[1;33m)\u001b[0m\u001b[1;33m)\u001b[0m\u001b[1;33m,\u001b[0m \u001b[0mfinalize\u001b[0m\u001b[1;33m=\u001b[0m\u001b[1;32mTrue\u001b[0m\u001b[1;33m)\u001b[0m\u001b[1;33m\u001b[0m\u001b[1;33m\u001b[0m\u001b[0m\n\u001b[0m\u001b[0;32m   1027\u001b[0m \u001b[1;33m\u001b[0m\u001b[0m\n\u001b[0;32m   1028\u001b[0m \u001b[1;33m\u001b[0m\u001b[0m\n",
      "\u001b[1;32mc:\\python38\\lib\\site-packages\\tensorflow\\python\\keras\\utils\\generic_utils.py\u001b[0m in \u001b[0;36mupdate\u001b[1;34m(self, current, values, finalize)\u001b[0m\n\u001b[0;32m    579\u001b[0m \u001b[1;33m\u001b[0m\u001b[0m\n\u001b[0;32m    580\u001b[0m       \u001b[1;32mif\u001b[0m \u001b[0mself\u001b[0m\u001b[1;33m.\u001b[0m\u001b[0mtarget\u001b[0m \u001b[1;32mis\u001b[0m \u001b[1;32mnot\u001b[0m \u001b[1;32mNone\u001b[0m\u001b[1;33m:\u001b[0m\u001b[1;33m\u001b[0m\u001b[1;33m\u001b[0m\u001b[0m\n\u001b[1;32m--> 581\u001b[1;33m         \u001b[0mnumdigits\u001b[0m \u001b[1;33m=\u001b[0m \u001b[0mint\u001b[0m\u001b[1;33m(\u001b[0m\u001b[0mnp\u001b[0m\u001b[1;33m.\u001b[0m\u001b[0mlog10\u001b[0m\u001b[1;33m(\u001b[0m\u001b[0mself\u001b[0m\u001b[1;33m.\u001b[0m\u001b[0mtarget\u001b[0m\u001b[1;33m)\u001b[0m\u001b[1;33m)\u001b[0m \u001b[1;33m+\u001b[0m \u001b[1;36m1\u001b[0m\u001b[1;33m\u001b[0m\u001b[1;33m\u001b[0m\u001b[0m\n\u001b[0m\u001b[0;32m    582\u001b[0m         \u001b[0mbar\u001b[0m \u001b[1;33m=\u001b[0m \u001b[1;33m(\u001b[0m\u001b[1;34m'%'\u001b[0m \u001b[1;33m+\u001b[0m \u001b[0mstr\u001b[0m\u001b[1;33m(\u001b[0m\u001b[0mnumdigits\u001b[0m\u001b[1;33m)\u001b[0m \u001b[1;33m+\u001b[0m \u001b[1;34m'd/%d ['\u001b[0m\u001b[1;33m)\u001b[0m \u001b[1;33m%\u001b[0m \u001b[1;33m(\u001b[0m\u001b[0mcurrent\u001b[0m\u001b[1;33m,\u001b[0m \u001b[0mself\u001b[0m\u001b[1;33m.\u001b[0m\u001b[0mtarget\u001b[0m\u001b[1;33m)\u001b[0m\u001b[1;33m\u001b[0m\u001b[1;33m\u001b[0m\u001b[0m\n\u001b[0;32m    583\u001b[0m         \u001b[0mprog\u001b[0m \u001b[1;33m=\u001b[0m \u001b[0mfloat\u001b[0m\u001b[1;33m(\u001b[0m\u001b[0mcurrent\u001b[0m\u001b[1;33m)\u001b[0m \u001b[1;33m/\u001b[0m \u001b[0mself\u001b[0m\u001b[1;33m.\u001b[0m\u001b[0mtarget\u001b[0m\u001b[1;33m\u001b[0m\u001b[1;33m\u001b[0m\u001b[0m\n",
      "\u001b[1;31mOverflowError\u001b[0m: cannot convert float infinity to integer"
     ]
    }
   ],
   "source": [
    "for col in columns:\n",
    "    print (\"####################### \"+col +\" ###########################\")\n",
    "\n",
    "    #Standardize the test data\n",
    "    scaler = StandardScaler()\n",
    "    test_cpy = test.copy()\n",
    "    \n",
    "    test[col] = scaler.fit_transform(test[[col]])\n",
    "    \n",
    "    #creem seqüencia amb finestra temporal per les dades de test\n",
    "    X_test1, y_test1 = create_sequences(test[[col]], test[col])\n",
    "    print(f'Testing shape: {X_test1.shape}')\n",
    "    \n",
    "    #evaluem el model\n",
    "    eval = model.evaluate(X_test1, y_test1)\n",
    "    print(\"evaluate: \",eval)\n",
    "    \n",
    "    #predim el model\n",
    "    X_test1_pred = model.predict(X_test1, verbose=0)\n",
    "    \n",
    "    \n",
    "    evaluate_prediction(X_test1_pred, X_test1,MODEL)\n",
    "    \n",
    "    #càlcul del mae_loss\n",
    "    test1_mae_loss = np.mean(np.abs(X_test1_pred - X_test1), axis=1)\n",
    "    test1_rmse_loss = np.sqrt(np.mean(np.square(X_test1_pred - X_test1),axis=1))\n",
    "\n",
    "    # reshaping test prediction\n",
    "    X_test1_predReshape = X_test1_pred.reshape((X_test1_pred.shape[0] * X_test1_pred.shape[1]), X_test1_pred.shape[2])\n",
    "    \n",
    "    # reshaping test data\n",
    "    X_test1Reshape = X_test1.reshape((X_test1.shape[0] * X_test1.shape[1]), X_test1.shape[2])\n",
    "  \n",
    "    threshold_test = calculate_threshold(X_test1Reshape,X_test1_predReshape)\n",
    "    \n",
    "    test1_score_df = pd.DataFrame(test[TIME_STEPS:])\n",
    "    test1_score_df['loss'] = test1_rmse_loss.reshape((-1))\n",
    "    test1_score_df['threshold'] = threshold_test\n",
    "    test1_score_df['anomaly'] = test1_score_df['loss'] > test1_score_df['threshold']\n",
    "    test1_score_df[col] = test[TIME_STEPS:][col]\n",
    "\n",
    "    #gràfic test lost i threshold\n",
    "    fig = go.Figure()\n",
    "    fig.add_trace(go.Scatter(x=test1_score_df.index, y=test1_score_df['loss'], name='Test loss'))\n",
    "    fig.add_trace(go.Scatter(x=test1_score_df.index, y=test1_score_df['threshold'], name='Threshold'))\n",
    "    fig.update_layout(showlegend=True, title='Test loss vs. Threshold')\n",
    "    fig.show()\n",
    "    \n",
    "    #Posem les anomalies en un array\n",
    "    anomalies1 = test1_score_df.loc[test1_score_df['anomaly'] == True]\n",
    "    anomalies1.shape\n",
    "    print('anomalies: ',anomalies1.shape); print();\n",
    "   \n",
    "    #Gràfic dels punts i de les anomalíes amb els valors de dades transformades per verificar que la normalització que s'ha fet no distorssiona les dades\n",
    "    fig = go.Figure()\n",
    "    fig.add_trace(go.Scatter(x=test1_score_df.index, y=scaler.inverse_transform(test1_score_df[col]), name=col))\n",
    "    fig.add_trace(go.Scatter(x=anomalies1.index, y=scaler.inverse_transform(anomalies1[col]), mode='markers', name='Anomaly'))\n",
    "    fig.update_layout(showlegend=True, title='Detected anomalies')\n",
    "    fig.show()\n",
    "    \n",
    "    print (\"######################################################\")"
   ]
  }
 ],
 "metadata": {
  "colab": {
   "collapsed_sections": [],
   "name": "PAC3_03-DNN.ipynb",
   "provenance": [],
   "toc_visible": true
  },
  "kernelspec": {
   "display_name": "Python 3",
   "language": "python",
   "name": "python3"
  },
  "language_info": {
   "codemirror_mode": {
    "name": "ipython",
    "version": 3
   },
   "file_extension": ".py",
   "mimetype": "text/x-python",
   "name": "python",
   "nbconvert_exporter": "python",
   "pygments_lexer": "ipython3",
   "version": "3.8.3"
  }
 },
 "nbformat": 4,
 "nbformat_minor": 1
}
